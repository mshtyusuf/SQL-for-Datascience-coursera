{
 "cells": [
  {
   "cell_type": "markdown",
   "metadata": {},
   "source": [
    "<a href=\"https://cognitiveclass.ai\"><img src = \"https://ibm.box.com/shared/static/ugcqz6ohbvff804xp84y4kqnvvk3bq1g.png\" width = 300, align = \"center\"></a>\n",
    "\n",
    "<h1 align=center><font size = 5>Assignment: Notebook for Peer Assignment</font></h1>"
   ]
  },
  {
   "cell_type": "markdown",
   "metadata": {},
   "source": [
    "# Introduction\n",
    "\n",
    "Using this Python notebook you will:\n",
    "1. Understand 3 Chicago datasets  \n",
    "1. Load the 3 datasets into 3 tables in a Db2 database\n",
    "1. Execute SQL queries to answer assignment questions "
   ]
  },
  {
   "cell_type": "markdown",
   "metadata": {},
   "source": [
    "## Understand the datasets \n",
    "To complete the assignment problems in this notebook you will be using three datasets that are available on the city of Chicago's Data Portal:\n",
    "1. <a href=\"https://data.cityofchicago.org/Health-Human-Services/Census-Data-Selected-socioeconomic-indicators-in-C/kn9c-c2s2\">Socioeconomic Indicators in Chicago</a>\n",
    "1. <a href=\"https://data.cityofchicago.org/Education/Chicago-Public-Schools-Progress-Report-Cards-2011-/9xs2-f89t\">Chicago Public Schools</a>\n",
    "1. <a href=\"https://data.cityofchicago.org/Public-Safety/Crimes-2001-to-present/ijzp-q8t2\">Chicago Crime Data</a>\n",
    "\n",
    "### 1. Socioeconomic Indicators in Chicago\n",
    "This dataset contains a selection of six socioeconomic indicators of public health significance and a “hardship index,” for each Chicago community area, for the years 2008 – 2012.\n",
    "\n",
    "For this assignment you will use a snapshot of this dataset which can be downloaded from:\n",
    "https://ibm.box.com/shared/static/05c3415cbfbtfnr2fx4atenb2sd361ze.csv\n",
    "\n",
    "A detailed description of this dataset and the original dataset can be obtained from the Chicago Data Portal at:\n",
    "https://data.cityofchicago.org/Health-Human-Services/Census-Data-Selected-socioeconomic-indicators-in-C/kn9c-c2s2\n",
    "\n",
    "\n",
    "\n",
    "### 2. Chicago Public Schools\n",
    "\n",
    "This dataset shows all school level performance data used to create CPS School Report Cards for the 2011-2012 school year. This dataset is provided by the city of Chicago's Data Portal.\n",
    "\n",
    "For this assignment you will use a snapshot of this dataset which can be downloaded from:\n",
    "https://ibm.box.com/shared/static/0g7kbanvn5l2gt2qu38ukooatnjqyuys.csv\n",
    "\n",
    "A detailed description of this dataset and the original dataset can be obtained from the Chicago Data Portal at:\n",
    "https://data.cityofchicago.org/Education/Chicago-Public-Schools-Progress-Report-Cards-2011-/9xs2-f89t\n",
    "\n",
    "\n",
    "\n",
    "\n",
    "### 3. Chicago Crime Data \n",
    "\n",
    "This dataset reflects reported incidents of crime (with the exception of murders where data exists for each victim) that occurred in the City of Chicago from 2001 to present, minus the most recent seven days. \n",
    "\n",
    "This dataset is quite large - over 1.5GB in size with over 6.5 million rows. For the purposes of this assignment we will use a much smaller sample of this dataset which can be downloaded from:\n",
    "https://ibm.box.com/shared/static/svflyugsr9zbqy5bmowgswqemfpm1x7f.csv\n",
    "\n",
    "A detailed description of this dataset and the original dataset can be obtained from the Chicago Data Portal at:\n",
    "https://data.cityofchicago.org/Public-Safety/Crimes-2001-to-present/ijzp-q8t2\n"
   ]
  },
  {
   "cell_type": "markdown",
   "metadata": {},
   "source": [
    "### Store the datasets in database tables\n",
    "In many cases the dataset to be analyzed is available as a .CSV (comma separated values) file, perhaps on the internet. To analyze the data using SQL, it first needs to be stored in the database.\n",
    "\n",
    "While it is easier to read the dataset into a Pandas dataframe and then PERSIST it into the database as we saw in Week 3 Lab 3, it results in mapping to default datatypes which may not be optimal for SQL querying. For example a long textual field may map to a CLOB instead of a VARCHAR. \n",
    "\n",
    "Therefore, __it is highly recommended to manually load the table using the database console LOAD tool, as indicated in Week 2 Lab 1 Part II__. The only difference with that lab is that in Step 5 of the instructions you will need to click on create \"(+) New Table\" and specify the name of the table you want to create and then click \"Next\". \n",
    "\n",
    "<a href=\"https://cognitiveclass.ai\"><img src = \"https://ibm.box.com/shared/static/uc4xjh1uxcc78ks1i18v668simioz4es.jpg\"></a>\n",
    "\n",
    "##### Now open the Db2 console, open the LOAD tool, Select / Drag the .CSV file for the first dataset, Next create a New Table, and then follow the steps on-screen instructions to load the data. Name the new tables as folows:\n",
    "1. __CENSUS_DATA__\n",
    "1. __CHICAGO_PUBLIC_SCHOOLS__\n",
    "1. __CHICAGO_CRIME_DATA__"
   ]
  },
  {
   "cell_type": "markdown",
   "metadata": {},
   "source": [
    "### Connect to the database \n",
    "Let us first load the SQL extension and establish a connection with the database"
   ]
  },
  {
   "cell_type": "code",
   "execution_count": 1,
   "metadata": {},
   "outputs": [],
   "source": [
    "%load_ext sql"
   ]
  },
  {
   "cell_type": "code",
   "execution_count": 2,
   "metadata": {},
   "outputs": [
    {
     "data": {
      "text/plain": [
       "'Connected: gtx81096@BLUDB'"
      ]
     },
     "execution_count": 2,
     "metadata": {},
     "output_type": "execute_result"
    }
   ],
   "source": [
    "# Remember the connection string is of the format:\n",
    "# %sql ibm_db_sa://my-username:my-password@my-hostname:my-port/my-db-name\n",
    "# Enter the connection string for your Db2 on Cloud database instance below\n",
    "%sql ibm_db_sa://gtx81096:n97vjc1cm4b6d@4q@dashdb-txn-sbox-yp-dal09-04.services.dal.bluemix.net:50000/BLUDB"
   ]
  },
  {
   "cell_type": "markdown",
   "metadata": {},
   "source": [
    "## Problems\n",
    "Now write and execute SQL queries to solve assignment problems\n",
    "\n",
    "### Problem 1\n",
    "\n",
    "##### How many rows are in each dataset?"
   ]
  },
  {
   "cell_type": "code",
   "execution_count": 29,
   "metadata": {},
   "outputs": [
    {
     "name": "stdout",
     "output_type": "stream",
     "text": [
      " * ibm_db_sa://gtx81096:***@dashdb-txn-sbox-yp-dal09-04.services.dal.bluemix.net:50000/BLUDB\n",
      "Done.\n"
     ]
    },
    {
     "data": {
      "text/html": [
       "<table>\n",
       "    <tr>\n",
       "        <th>num_rows</th>\n",
       "    </tr>\n",
       "    <tr>\n",
       "        <td>78</td>\n",
       "    </tr>\n",
       "</table>"
      ],
      "text/plain": [
       "[(Decimal('78'),)]"
      ]
     },
     "execution_count": 29,
     "metadata": {},
     "output_type": "execute_result"
    }
   ],
   "source": [
    "# Rows in Census Data (Socieconimic Indicators)\n",
    "%sql select COUNT(*) as NUM_ROWS from CENSUS_DATA"
   ]
  },
  {
   "cell_type": "code",
   "execution_count": 30,
   "metadata": {},
   "outputs": [
    {
     "name": "stdout",
     "output_type": "stream",
     "text": [
      " * ibm_db_sa://gtx81096:***@dashdb-txn-sbox-yp-dal09-04.services.dal.bluemix.net:50000/BLUDB\n",
      "Done.\n"
     ]
    },
    {
     "data": {
      "text/html": [
       "<table>\n",
       "    <tr>\n",
       "        <th>num_rows</th>\n",
       "    </tr>\n",
       "    <tr>\n",
       "        <td>566</td>\n",
       "    </tr>\n",
       "</table>"
      ],
      "text/plain": [
       "[(Decimal('566'),)]"
      ]
     },
     "execution_count": 30,
     "metadata": {},
     "output_type": "execute_result"
    }
   ],
   "source": [
    "# Rows in Public Schools\n",
    "%sql select COUNT(*) as NUM_ROWS from CHICAGO_PUBLIC_SCHOOLS"
   ]
  },
  {
   "cell_type": "code",
   "execution_count": 31,
   "metadata": {},
   "outputs": [
    {
     "name": "stdout",
     "output_type": "stream",
     "text": [
      " * ibm_db_sa://gtx81096:***@dashdb-txn-sbox-yp-dal09-04.services.dal.bluemix.net:50000/BLUDB\n",
      "Done.\n"
     ]
    },
    {
     "data": {
      "text/html": [
       "<table>\n",
       "    <tr>\n",
       "        <th>num_rows</th>\n",
       "    </tr>\n",
       "    <tr>\n",
       "        <td>533</td>\n",
       "    </tr>\n",
       "</table>"
      ],
      "text/plain": [
       "[(Decimal('533'),)]"
      ]
     },
     "execution_count": 31,
     "metadata": {},
     "output_type": "execute_result"
    }
   ],
   "source": [
    "# Rows in Crime Data\n",
    "%sql select COUNT(*) as NUM_ROWS from CHICAGO_CRIME_DATA"
   ]
  },
  {
   "cell_type": "markdown",
   "metadata": {},
   "source": [
    "### Problem 2\n",
    "\n",
    "##### Find average college enrollments by community area"
   ]
  },
  {
   "cell_type": "code",
   "execution_count": 6,
   "metadata": {
    "collapsed": true
   },
   "outputs": [
    {
     "name": "stdout",
     "output_type": "stream",
     "text": [
      " * ibm_db_sa://gtx81096:***@dashdb-txn-sbox-yp-dal09-04.services.dal.bluemix.net:50000/BLUDB\n",
      "Done.\n"
     ]
    },
    {
     "data": {
      "text/html": [
       "<table>\n",
       "    <tr>\n",
       "        <th>Community_Area_Name</th>\n",
       "        <th>average_enrollment</th>\n",
       "    </tr>\n",
       "    <tr>\n",
       "        <td>ALBANY PARK</td>\n",
       "        <td>858.0</td>\n",
       "    </tr>\n",
       "    <tr>\n",
       "        <td>ARCHER HEIGHTS</td>\n",
       "        <td>2411.5</td>\n",
       "    </tr>\n",
       "    <tr>\n",
       "        <td>ARMOUR SQUARE</td>\n",
       "        <td>486.0</td>\n",
       "    </tr>\n",
       "    <tr>\n",
       "        <td>ASHBURN</td>\n",
       "        <td>810.38</td>\n",
       "    </tr>\n",
       "    <tr>\n",
       "        <td>AUBURN GRESHAM</td>\n",
       "        <td>417.5</td>\n",
       "    </tr>\n",
       "    <tr>\n",
       "        <td>AUSTIN</td>\n",
       "        <td>475.35</td>\n",
       "    </tr>\n",
       "    <tr>\n",
       "        <td>AVALON PARK</td>\n",
       "        <td>507.33</td>\n",
       "    </tr>\n",
       "    <tr>\n",
       "        <td>AVONDALE</td>\n",
       "        <td>910.0</td>\n",
       "    </tr>\n",
       "    <tr>\n",
       "        <td>BELMONT CRAGIN</td>\n",
       "        <td>1198.83</td>\n",
       "    </tr>\n",
       "    <tr>\n",
       "        <td>BEVERLY</td>\n",
       "        <td>409.0</td>\n",
       "    </tr>\n",
       "    <tr>\n",
       "        <td>BRIDGEPORT</td>\n",
       "        <td>633.4</td>\n",
       "    </tr>\n",
       "    <tr>\n",
       "        <td>BRIGHTON PARK</td>\n",
       "        <td>1205.88</td>\n",
       "    </tr>\n",
       "    <tr>\n",
       "        <td>BURNSIDE</td>\n",
       "        <td>549.0</td>\n",
       "    </tr>\n",
       "    <tr>\n",
       "        <td>CALUMET HEIGHTS</td>\n",
       "        <td>261.33</td>\n",
       "    </tr>\n",
       "    <tr>\n",
       "        <td>CHATHAM</td>\n",
       "        <td>560.22</td>\n",
       "    </tr>\n",
       "    <tr>\n",
       "        <td>CHICAGO LAWN</td>\n",
       "        <td>1012.29</td>\n",
       "    </tr>\n",
       "    <tr>\n",
       "        <td>CLEARING</td>\n",
       "        <td>521.25</td>\n",
       "    </tr>\n",
       "    <tr>\n",
       "        <td>DOUGLAS</td>\n",
       "        <td>424.55</td>\n",
       "    </tr>\n",
       "    <tr>\n",
       "        <td>DUNNING</td>\n",
       "        <td>761.33</td>\n",
       "    </tr>\n",
       "    <tr>\n",
       "        <td>EAST GARFIELD PARK</td>\n",
       "        <td>410.54</td>\n",
       "    </tr>\n",
       "    <tr>\n",
       "        <td>EAST SIDE</td>\n",
       "        <td>1061.0</td>\n",
       "    </tr>\n",
       "    <tr>\n",
       "        <td>EDGEWATER</td>\n",
       "        <td>766.67</td>\n",
       "    </tr>\n",
       "    <tr>\n",
       "        <td>EDISON PARK</td>\n",
       "        <td>455.0</td>\n",
       "    </tr>\n",
       "    <tr>\n",
       "        <td>ENGLEWOOD</td>\n",
       "        <td>401.88</td>\n",
       "    </tr>\n",
       "    <tr>\n",
       "        <td>FOREST GLEN</td>\n",
       "        <td>477.0</td>\n",
       "    </tr>\n",
       "    <tr>\n",
       "        <td>FULLER PARK</td>\n",
       "        <td>265.5</td>\n",
       "    </tr>\n",
       "    <tr>\n",
       "        <td>GAGE PARK</td>\n",
       "        <td>991.5</td>\n",
       "    </tr>\n",
       "    <tr>\n",
       "        <td>GARFIELD RIDGE</td>\n",
       "        <td>910.4</td>\n",
       "    </tr>\n",
       "    <tr>\n",
       "        <td>GRAND BOULEVARD</td>\n",
       "        <td>351.13</td>\n",
       "    </tr>\n",
       "    <tr>\n",
       "        <td>GREATER GRAND CROSSING</td>\n",
       "        <td>405.1</td>\n",
       "    </tr>\n",
       "    <tr>\n",
       "        <td>HEGEWISCH</td>\n",
       "        <td>481.5</td>\n",
       "    </tr>\n",
       "    <tr>\n",
       "        <td>HERMOSA</td>\n",
       "        <td>993.75</td>\n",
       "    </tr>\n",
       "    <tr>\n",
       "        <td>HUMBOLDT PARK</td>\n",
       "        <td>663.08</td>\n",
       "    </tr>\n",
       "    <tr>\n",
       "        <td>HYDE PARK</td>\n",
       "        <td>482.5</td>\n",
       "    </tr>\n",
       "    <tr>\n",
       "        <td>IRVING PARK</td>\n",
       "        <td>862.67</td>\n",
       "    </tr>\n",
       "    <tr>\n",
       "        <td>JEFFERSON PARK</td>\n",
       "        <td>877.5</td>\n",
       "    </tr>\n",
       "    <tr>\n",
       "        <td>KENWOOD</td>\n",
       "        <td>612.43</td>\n",
       "    </tr>\n",
       "    <tr>\n",
       "        <td>LAKE VIEW</td>\n",
       "        <td>641.36</td>\n",
       "    </tr>\n",
       "    <tr>\n",
       "        <td>LINCOLN PARK</td>\n",
       "        <td>802.14</td>\n",
       "    </tr>\n",
       "    <tr>\n",
       "        <td>LINCOLN SQUARE</td>\n",
       "        <td>826.4</td>\n",
       "    </tr>\n",
       "    <tr>\n",
       "        <td>LOGAN SQUARE</td>\n",
       "        <td>668.27</td>\n",
       "    </tr>\n",
       "    <tr>\n",
       "        <td>LOOP</td>\n",
       "        <td>871.0</td>\n",
       "    </tr>\n",
       "    <tr>\n",
       "        <td>LOWER WEST SIDE</td>\n",
       "        <td>659.73</td>\n",
       "    </tr>\n",
       "    <tr>\n",
       "        <td>MCKINLEY PARK</td>\n",
       "        <td>388.0</td>\n",
       "    </tr>\n",
       "    <tr>\n",
       "        <td>MONTCLARE</td>\n",
       "        <td>1317.0</td>\n",
       "    </tr>\n",
       "    <tr>\n",
       "        <td>MORGAN PARK</td>\n",
       "        <td>654.2</td>\n",
       "    </tr>\n",
       "    <tr>\n",
       "        <td>MOUNT GREENWOOD</td>\n",
       "        <td>522.75</td>\n",
       "    </tr>\n",
       "    <tr>\n",
       "        <td>NEAR NORTH SIDE</td>\n",
       "        <td>480.29</td>\n",
       "    </tr>\n",
       "    <tr>\n",
       "        <td>NEAR SOUTH SIDE</td>\n",
       "        <td>459.33</td>\n",
       "    </tr>\n",
       "    <tr>\n",
       "        <td>NEAR WEST SIDE</td>\n",
       "        <td>498.44</td>\n",
       "    </tr>\n",
       "    <tr>\n",
       "        <td>NEW CITY</td>\n",
       "        <td>609.38</td>\n",
       "    </tr>\n",
       "    <tr>\n",
       "        <td>NORTH CENTER</td>\n",
       "        <td>1077.29</td>\n",
       "    </tr>\n",
       "    <tr>\n",
       "        <td>NORTH LAWNDALE</td>\n",
       "        <td>321.63</td>\n",
       "    </tr>\n",
       "    <tr>\n",
       "        <td>NORTH PARK</td>\n",
       "        <td>842.0</td>\n",
       "    </tr>\n",
       "    <tr>\n",
       "        <td>NORWOOD PARK</td>\n",
       "        <td>808.63</td>\n",
       "    </tr>\n",
       "    <tr>\n",
       "        <td>OAKLAND</td>\n",
       "        <td>140.0</td>\n",
       "    </tr>\n",
       "    <tr>\n",
       "        <td>OHARE</td>\n",
       "        <td>786.0</td>\n",
       "    </tr>\n",
       "    <tr>\n",
       "        <td>PORTAGE PARK</td>\n",
       "        <td>993.43</td>\n",
       "    </tr>\n",
       "    <tr>\n",
       "        <td>PULLMAN</td>\n",
       "        <td>324.0</td>\n",
       "    </tr>\n",
       "    <tr>\n",
       "        <td>RIVERDALE</td>\n",
       "        <td>386.75</td>\n",
       "    </tr>\n",
       "    <tr>\n",
       "        <td>ROGERS PARK</td>\n",
       "        <td>678.0</td>\n",
       "    </tr>\n",
       "    <tr>\n",
       "        <td>ROSELAND</td>\n",
       "        <td>540.0</td>\n",
       "    </tr>\n",
       "    <tr>\n",
       "        <td>SOUTH CHICAGO</td>\n",
       "        <td>577.57</td>\n",
       "    </tr>\n",
       "    <tr>\n",
       "        <td>SOUTH DEERING</td>\n",
       "        <td>464.75</td>\n",
       "    </tr>\n",
       "    <tr>\n",
       "        <td>SOUTH LAWNDALE</td>\n",
       "        <td>672.41</td>\n",
       "    </tr>\n",
       "    <tr>\n",
       "        <td>SOUTH SHORE</td>\n",
       "        <td>504.78</td>\n",
       "    </tr>\n",
       "    <tr>\n",
       "        <td>UPTOWN</td>\n",
       "        <td>626.86</td>\n",
       "    </tr>\n",
       "    <tr>\n",
       "        <td>WASHINGTON HEIGHTS</td>\n",
       "        <td>445.11</td>\n",
       "    </tr>\n",
       "    <tr>\n",
       "        <td>WASHINGTON PARK</td>\n",
       "        <td>529.6</td>\n",
       "    </tr>\n",
       "    <tr>\n",
       "        <td>WEST ELSDON</td>\n",
       "        <td>1233.33</td>\n",
       "    </tr>\n",
       "    <tr>\n",
       "        <td>WEST ENGLEWOOD</td>\n",
       "        <td>457.38</td>\n",
       "    </tr>\n",
       "    <tr>\n",
       "        <td>WEST GARFIELD PARK</td>\n",
       "        <td>327.75</td>\n",
       "    </tr>\n",
       "    <tr>\n",
       "        <td>WEST LAWN</td>\n",
       "        <td>1051.75</td>\n",
       "    </tr>\n",
       "    <tr>\n",
       "        <td>WEST PULLMAN</td>\n",
       "        <td>324.0</td>\n",
       "    </tr>\n",
       "    <tr>\n",
       "        <td>WEST RIDGE</td>\n",
       "        <td>910.78</td>\n",
       "    </tr>\n",
       "    <tr>\n",
       "        <td>WEST TOWN</td>\n",
       "        <td>471.45</td>\n",
       "    </tr>\n",
       "    <tr>\n",
       "        <td>WOODLAWN</td>\n",
       "        <td>525.75</td>\n",
       "    </tr>\n",
       "</table>"
      ],
      "text/plain": [
       "[('ALBANY PARK', 858.0),\n",
       " ('ARCHER HEIGHTS', 2411.5),\n",
       " ('ARMOUR SQUARE', 486.0),\n",
       " ('ASHBURN', 810.38),\n",
       " ('AUBURN GRESHAM', 417.5),\n",
       " ('AUSTIN', 475.35),\n",
       " ('AVALON PARK', 507.33),\n",
       " ('AVONDALE', 910.0),\n",
       " ('BELMONT CRAGIN', 1198.83),\n",
       " ('BEVERLY', 409.0),\n",
       " ('BRIDGEPORT', 633.4),\n",
       " ('BRIGHTON PARK', 1205.88),\n",
       " ('BURNSIDE', 549.0),\n",
       " ('CALUMET HEIGHTS', 261.33),\n",
       " ('CHATHAM', 560.22),\n",
       " ('CHICAGO LAWN', 1012.29),\n",
       " ('CLEARING', 521.25),\n",
       " ('DOUGLAS', 424.55),\n",
       " ('DUNNING', 761.33),\n",
       " ('EAST GARFIELD PARK', 410.54),\n",
       " ('EAST SIDE', 1061.0),\n",
       " ('EDGEWATER', 766.67),\n",
       " ('EDISON PARK', 455.0),\n",
       " ('ENGLEWOOD', 401.88),\n",
       " ('FOREST GLEN', 477.0),\n",
       " ('FULLER PARK', 265.5),\n",
       " ('GAGE PARK', 991.5),\n",
       " ('GARFIELD RIDGE', 910.4),\n",
       " ('GRAND BOULEVARD', 351.13),\n",
       " ('GREATER GRAND CROSSING', 405.1),\n",
       " ('HEGEWISCH', 481.5),\n",
       " ('HERMOSA', 993.75),\n",
       " ('HUMBOLDT PARK', 663.08),\n",
       " ('HYDE PARK', 482.5),\n",
       " ('IRVING PARK', 862.67),\n",
       " ('JEFFERSON PARK', 877.5),\n",
       " ('KENWOOD', 612.43),\n",
       " ('LAKE VIEW', 641.36),\n",
       " ('LINCOLN PARK', 802.14),\n",
       " ('LINCOLN SQUARE', 826.4),\n",
       " ('LOGAN SQUARE', 668.27),\n",
       " ('LOOP', 871.0),\n",
       " ('LOWER WEST SIDE', 659.73),\n",
       " ('MCKINLEY PARK', 388.0),\n",
       " ('MONTCLARE', 1317.0),\n",
       " ('MORGAN PARK', 654.2),\n",
       " ('MOUNT GREENWOOD', 522.75),\n",
       " ('NEAR NORTH SIDE', 480.29),\n",
       " ('NEAR SOUTH SIDE', 459.33),\n",
       " ('NEAR WEST SIDE', 498.44),\n",
       " ('NEW CITY', 609.38),\n",
       " ('NORTH CENTER', 1077.29),\n",
       " ('NORTH LAWNDALE', 321.63),\n",
       " ('NORTH PARK', 842.0),\n",
       " ('NORWOOD PARK', 808.63),\n",
       " ('OAKLAND', 140.0),\n",
       " ('OHARE', 786.0),\n",
       " ('PORTAGE PARK', 993.43),\n",
       " ('PULLMAN', 324.0),\n",
       " ('RIVERDALE', 386.75),\n",
       " ('ROGERS PARK', 678.0),\n",
       " ('ROSELAND', 540.0),\n",
       " ('SOUTH CHICAGO', 577.57),\n",
       " ('SOUTH DEERING', 464.75),\n",
       " ('SOUTH LAWNDALE', 672.41),\n",
       " ('SOUTH SHORE', 504.78),\n",
       " ('UPTOWN', 626.86),\n",
       " ('WASHINGTON HEIGHTS', 445.11),\n",
       " ('WASHINGTON PARK', 529.6),\n",
       " ('WEST ELSDON', 1233.33),\n",
       " ('WEST ENGLEWOOD', 457.38),\n",
       " ('WEST GARFIELD PARK', 327.75),\n",
       " ('WEST LAWN', 1051.75),\n",
       " ('WEST PULLMAN', 324.0),\n",
       " ('WEST RIDGE', 910.78),\n",
       " ('WEST TOWN', 471.45),\n",
       " ('WOODLAWN', 525.75)]"
      ]
     },
     "execution_count": 6,
     "metadata": {},
     "output_type": "execute_result"
    }
   ],
   "source": [
    "%sql select \"Community_Area_Name\", CAST(ROUND(AVG(\"College_Enrollment__number_of_students_\"), 2) as float) \\\n",
    "as AVERAGE_ENROLLMENT \\\n",
    "from CHICAGO_PUBLIC_SCHOOLS \\\n",
    "group by \"Community_Area_Name\""
   ]
  },
  {
   "cell_type": "markdown",
   "metadata": {},
   "source": [
    "### Problem 3\n",
    "\n",
    "##### Find the number of schools that are healthy school certified"
   ]
  },
  {
   "cell_type": "code",
   "execution_count": 28,
   "metadata": {
    "collapsed": true
   },
   "outputs": [
    {
     "name": "stdout",
     "output_type": "stream",
     "text": [
      " * ibm_db_sa://gtx81096:***@dashdb-txn-sbox-yp-dal09-04.services.dal.bluemix.net:50000/BLUDB\n",
      "Done.\n"
     ]
    },
    {
     "data": {
      "text/html": [
       "<table>\n",
       "    <tr>\n",
       "        <th>num_healthy_school_cert</th>\n",
       "    </tr>\n",
       "    <tr>\n",
       "        <td>16</td>\n",
       "    </tr>\n",
       "</table>"
      ],
      "text/plain": [
       "[(Decimal('16'),)]"
      ]
     },
     "execution_count": 28,
     "metadata": {},
     "output_type": "execute_result"
    }
   ],
   "source": [
    "# %sql select COLNAME, TYPENAME, LENGTH from SYSCAT.COLUMNS where TABNAME = 'CHICAGO_PUBLIC_SCHOOLS'\n",
    "%sql select COUNT(*) as NUM_HEALTHY_SCHOOL_CERT from CHICAGO_PUBLIC_SCHOOLS \\\n",
    "where \"Healthy_Schools_Certified_\" = 'Yes'"
   ]
  },
  {
   "cell_type": "markdown",
   "metadata": {},
   "source": [
    "### Problem 4\n",
    "\n",
    "##### How many observations have a Location Description value of GAS STATION\n"
   ]
  },
  {
   "cell_type": "code",
   "execution_count": 27,
   "metadata": {
    "collapsed": true
   },
   "outputs": [
    {
     "name": "stdout",
     "output_type": "stream",
     "text": [
      " * ibm_db_sa://gtx81096:***@dashdb-txn-sbox-yp-dal09-04.services.dal.bluemix.net:50000/BLUDB\n",
      "Done.\n"
     ]
    },
    {
     "data": {
      "text/html": [
       "<table>\n",
       "    <tr>\n",
       "        <th>num_gas_station_loc</th>\n",
       "    </tr>\n",
       "    <tr>\n",
       "        <td>6</td>\n",
       "    </tr>\n",
       "</table>"
      ],
      "text/plain": [
       "[(Decimal('6'),)]"
      ]
     },
     "execution_count": 27,
     "metadata": {},
     "output_type": "execute_result"
    }
   ],
   "source": [
    "#%sql select COLNAME, TYPENAME, LENGTH from SYSCAT.COLUMNS where TABNAME = 'CHICAGO_CRIME_DATA'\n",
    "%sql select COUNT(*) as NUM_GAS_STATION_LOC from CHICAGO_CRIME_DATA \\\n",
    "where \"Location_Description\" = 'GAS STATION'"
   ]
  },
  {
   "cell_type": "markdown",
   "metadata": {},
   "source": [
    "### Problem 5\n",
    "\n",
    "##### Retrieve a list of the top 10 community areas which have most number of schools and sorted in descending order."
   ]
  },
  {
   "cell_type": "code",
   "execution_count": 14,
   "metadata": {
    "collapsed": true
   },
   "outputs": [
    {
     "name": "stdout",
     "output_type": "stream",
     "text": [
      " * ibm_db_sa://gtx81096:***@dashdb-txn-sbox-yp-dal09-04.services.dal.bluemix.net:50000/BLUDB\n",
      "Done.\n"
     ]
    },
    {
     "data": {
      "text/html": [
       "<table>\n",
       "    <tr>\n",
       "        <th>Community_Area_Name</th>\n",
       "        <th>number_of_schools</th>\n",
       "    </tr>\n",
       "    <tr>\n",
       "        <td>AUSTIN</td>\n",
       "        <td>23</td>\n",
       "    </tr>\n",
       "    <tr>\n",
       "        <td>SOUTH LAWNDALE</td>\n",
       "        <td>22</td>\n",
       "    </tr>\n",
       "    <tr>\n",
       "        <td>WEST TOWN</td>\n",
       "        <td>20</td>\n",
       "    </tr>\n",
       "    <tr>\n",
       "        <td>ENGLEWOOD</td>\n",
       "        <td>17</td>\n",
       "    </tr>\n",
       "    <tr>\n",
       "        <td>NEAR WEST SIDE</td>\n",
       "        <td>16</td>\n",
       "    </tr>\n",
       "    <tr>\n",
       "        <td>NORTH LAWNDALE</td>\n",
       "        <td>16</td>\n",
       "    </tr>\n",
       "    <tr>\n",
       "        <td>EAST GARFIELD PARK</td>\n",
       "        <td>13</td>\n",
       "    </tr>\n",
       "    <tr>\n",
       "        <td>HUMBOLDT PARK</td>\n",
       "        <td>13</td>\n",
       "    </tr>\n",
       "    <tr>\n",
       "        <td>NEW CITY</td>\n",
       "        <td>13</td>\n",
       "    </tr>\n",
       "    <tr>\n",
       "        <td>ROSELAND</td>\n",
       "        <td>13</td>\n",
       "    </tr>\n",
       "</table>"
      ],
      "text/plain": [
       "[('AUSTIN', Decimal('23')),\n",
       " ('SOUTH LAWNDALE', Decimal('22')),\n",
       " ('WEST TOWN', Decimal('20')),\n",
       " ('ENGLEWOOD', Decimal('17')),\n",
       " ('NEAR WEST SIDE', Decimal('16')),\n",
       " ('NORTH LAWNDALE', Decimal('16')),\n",
       " ('EAST GARFIELD PARK', Decimal('13')),\n",
       " ('HUMBOLDT PARK', Decimal('13')),\n",
       " ('NEW CITY', Decimal('13')),\n",
       " ('ROSELAND', Decimal('13'))]"
      ]
     },
     "execution_count": 14,
     "metadata": {},
     "output_type": "execute_result"
    }
   ],
   "source": [
    "%sql select \"Community_Area_Name\", COUNT(\"School_ID\") as NUMBER_OF_SCHOOLS from CHICAGO_PUBLIC_SCHOOLS \\\n",
    "group by \"Community_Area_Name\" \\\n",
    "order by NUMBER_OF_SCHOOLS desc nulls last limit 10"
   ]
  },
  {
   "cell_type": "markdown",
   "metadata": {},
   "source": [
    "### Problem 6\n",
    "\n",
    "##### How many observations have value MOTOR VEHICLE THEFT in the Primary Type variable (this is the number of crimes related to Motor vehicles)"
   ]
  },
  {
   "cell_type": "code",
   "execution_count": 26,
   "metadata": {
    "collapsed": true
   },
   "outputs": [
    {
     "name": "stdout",
     "output_type": "stream",
     "text": [
      " * ibm_db_sa://gtx81096:***@dashdb-txn-sbox-yp-dal09-04.services.dal.bluemix.net:50000/BLUDB\n",
      "Done.\n"
     ]
    },
    {
     "data": {
      "text/html": [
       "<table>\n",
       "    <tr>\n",
       "        <th>num_motor_vehicle_crimes</th>\n",
       "    </tr>\n",
       "    <tr>\n",
       "        <td>24</td>\n",
       "    </tr>\n",
       "</table>"
      ],
      "text/plain": [
       "[(Decimal('24'),)]"
      ]
     },
     "execution_count": 26,
     "metadata": {},
     "output_type": "execute_result"
    }
   ],
   "source": [
    "#%sql select COLNAME, TYPENAME, LENGTH from SYSCAT.COLUMNS where TABNAME = 'CHICAGO_CRIME_DATA'\n",
    "%sql select COUNT(*) as NUM_MOTOR_VEHICLE_CRIMES from CHICAGO_CRIME_DATA \\\n",
    "where \"Primary_Type\" = 'MOTOR VEHICLE THEFT'"
   ]
  },
  {
   "cell_type": "markdown",
   "metadata": {},
   "source": [
    "### Problem 7\n",
    "\n",
    "##### Find the minimum “Average Student Attendance” for community are where hardship is 96. Hint: use INNER JOIN"
   ]
  },
  {
   "cell_type": "code",
   "execution_count": 25,
   "metadata": {
    "collapsed": true
   },
   "outputs": [
    {
     "name": "stdout",
     "output_type": "stream",
     "text": [
      " * ibm_db_sa://gtx81096:***@dashdb-txn-sbox-yp-dal09-04.services.dal.bluemix.net:50000/BLUDB\n",
      "Done.\n"
     ]
    },
    {
     "data": {
      "text/html": [
       "<table>\n",
       "    <tr>\n",
       "        <th>min_avg_student_attendance</th>\n",
       "    </tr>\n",
       "    <tr>\n",
       "        <td>86.1%</td>\n",
       "    </tr>\n",
       "</table>"
      ],
      "text/plain": [
       "[('86.1%',)]"
      ]
     },
     "execution_count": 25,
     "metadata": {},
     "output_type": "execute_result"
    }
   ],
   "source": [
    "%sql select MIN(S.\"Average_Student_Attendance\") as MIN_AVG_STUDENT_ATTENDANCE \\\n",
    "from CHICAGO_PUBLIC_SCHOOLS as S \\\n",
    "inner join CENSUS_DATA as C on C.\"Community_Area_Number\" = S.\"Community_Area_Number\" and \\\n",
    "\"HARDSHIP_INDEX\" = 96"
   ]
  },
  {
   "cell_type": "markdown",
   "metadata": {},
   "source": [
    "Copyright &copy; 2018 [cognitiveclass.ai](cognitiveclass.ai?utm_source=bducopyrightlink&utm_medium=dswb&utm_campaign=bdu). This notebook and its source code are released under the terms of the [MIT License](https://bigdatauniversity.com/mit-license/).\n"
   ]
  }
 ],
 "metadata": {
  "kernelspec": {
   "display_name": "Python 3",
   "language": "python",
   "name": "python3"
  },
  "language_info": {
   "codemirror_mode": {
    "name": "ipython",
    "version": 3
   },
   "file_extension": ".py",
   "mimetype": "text/x-python",
   "name": "python",
   "nbconvert_exporter": "python",
   "pygments_lexer": "ipython3",
   "version": "3.6.5"
  },
  "widgets": {
   "state": {},
   "version": "1.1.2"
  }
 },
 "nbformat": 4,
 "nbformat_minor": 2
}
